{
 "cells": [
  {
   "cell_type": "markdown",
   "metadata": {},
   "source": [
    "you have to run this file in terminal as administrator........."
   ]
  },
  {
   "cell_type": "markdown",
   "metadata": {},
   "source": [
    "run the file as given below format:----"
   ]
  },
  {
   "cell_type": "markdown",
   "metadata": {},
   "source": [
    "# sudo python filename.py"
   ]
  },
  {
   "cell_type": "code",
   "execution_count": null,
   "metadata": {},
   "outputs": [],
   "source": [
    "import time \n",
    "from datetime import datetime as dt \n",
    "  \n",
    "\n",
    "hosts_path = \"/etc/hosts\" # hosts path changing according to your OS \n",
    "redirecting = \"127.0.0.1\" # IP of localhost's     \n",
    "blocked_site = [\"www.facebook.com\",\"www.instagram.com\"] # blocked websites\n",
    " \n",
    "start_work_time=dt(dt.now().year, dt.now().month, dt.now().day,9)\n",
    "end_work_time=dt(dt.now().year, dt.now().month, dt.now().day,17)\n",
    "print(\"start_work_time: \"+str(start_work_time))\n",
    "print(\"end_work_time: \"+str(end_work_time))\n",
    "\n",
    "while True: \n",
    "    \n",
    "    current_time=dt.now()  \n",
    "    print(\"current_time: \"+str(current_time))\n",
    "    \n",
    "    # working time \n",
    "    if start_work_time< current_time < end_work_time: \n",
    "        print(\"This is Working hours...\") \n",
    "        with open(hosts_path, 'r+') as file: \n",
    "            content = file.read() \n",
    "            for website in blocked_site: \n",
    "                if website in content: \n",
    "                    pass\n",
    "                else: \n",
    "                     file.write(redirecting + \" \" + website + \"\\n\") # mapping hostnames to your localhost IP address\n",
    "    else: \n",
    "        with open(hosts_path, 'r+') as file: \n",
    "            content=file.readlines() \n",
    "            file.seek(0) \n",
    "            for line in content: \n",
    "                if not any(website in line for website in blocked_site): \n",
    "                    file.write(line) \n",
    "  \n",
    "             \n",
    "            file.truncate() # removing hostnmes\n",
    "  \n",
    "        print(\"This is Fun hours...\") \n",
    "    time.sleep(3) "
   ]
  },
  {
   "cell_type": "code",
   "execution_count": null,
   "metadata": {},
   "outputs": [],
   "source": []
  }
 ],
 "metadata": {
  "kernelspec": {
   "display_name": "Python 3",
   "language": "python",
   "name": "python3"
  },
  "language_info": {
   "codemirror_mode": {
    "name": "ipython",
    "version": 3
   },
   "file_extension": ".py",
   "mimetype": "text/x-python",
   "name": "python",
   "nbconvert_exporter": "python",
   "pygments_lexer": "ipython3",
   "version": "3.6.10"
  }
 },
 "nbformat": 4,
 "nbformat_minor": 2
}
