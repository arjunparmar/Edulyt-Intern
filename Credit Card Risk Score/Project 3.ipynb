{
 "cells": [
  {
   "cell_type": "code",
   "execution_count": 122,
   "metadata": {},
   "outputs": [
    {
     "data": {
      "text/html": [
       "<div>\n",
       "<style scoped>\n",
       "    .dataframe tbody tr th:only-of-type {\n",
       "        vertical-align: middle;\n",
       "    }\n",
       "\n",
       "    .dataframe tbody tr th {\n",
       "        vertical-align: top;\n",
       "    }\n",
       "\n",
       "    .dataframe thead th {\n",
       "        text-align: right;\n",
       "    }\n",
       "</style>\n",
       "<table border=\"1\" class=\"dataframe\">\n",
       "  <thead>\n",
       "    <tr style=\"text-align: right;\">\n",
       "      <th></th>\n",
       "      <th>Application id</th>\n",
       "      <th>first_name</th>\n",
       "      <th>last_name</th>\n",
       "      <th>email</th>\n",
       "      <th>gender</th>\n",
       "      <th>address</th>\n",
       "      <th>age</th>\n",
       "      <th>tdecision</th>\n",
       "      <th>empstaus</th>\n",
       "      <th>ExCus (Customer in Past)</th>\n",
       "      <th>Source</th>\n",
       "      <th>Salary</th>\n",
       "      <th>ExDebt (Liability)</th>\n",
       "      <th>Booking</th>\n",
       "      <th>INT_ID</th>\n",
       "      <th>Prev_ID</th>\n",
       "      <th>AGT_ID</th>\n",
       "      <th>Booking_Amt</th>\n",
       "    </tr>\n",
       "  </thead>\n",
       "  <tbody>\n",
       "    <tr>\n",
       "      <th>0</th>\n",
       "      <td>1</td>\n",
       "      <td>Dollie</td>\n",
       "      <td>Scafe</td>\n",
       "      <td>dscafe0@is.gd</td>\n",
       "      <td>Female</td>\n",
       "      <td>02 Garrison Pass</td>\n",
       "      <td>34</td>\n",
       "      <td>Pending</td>\n",
       "      <td>SE</td>\n",
       "      <td>Y</td>\n",
       "      <td>EC</td>\n",
       "      <td>127110</td>\n",
       "      <td>25130</td>\n",
       "      <td>NaN</td>\n",
       "      <td>6869736235</td>\n",
       "      <td>79-489-1539</td>\n",
       "      <td>Mozilla/5.0 (Macintosh; U; Intel Mac OS X 10_6...</td>\n",
       "      <td>NaN</td>\n",
       "    </tr>\n",
       "    <tr>\n",
       "      <th>1</th>\n",
       "      <td>2</td>\n",
       "      <td>Austin</td>\n",
       "      <td>Pennycook</td>\n",
       "      <td>apennycook1@mac.com</td>\n",
       "      <td>Male</td>\n",
       "      <td>007 Miller Road</td>\n",
       "      <td>57</td>\n",
       "      <td>Approve</td>\n",
       "      <td>SE</td>\n",
       "      <td>Y</td>\n",
       "      <td>D</td>\n",
       "      <td>464039</td>\n",
       "      <td>22311</td>\n",
       "      <td>Y</td>\n",
       "      <td>9694176212</td>\n",
       "      <td>92-247-0058</td>\n",
       "      <td>Mozilla/5.0 (Windows; U; Windows NT 5.1; zh-TW...</td>\n",
       "      <td>278423.4</td>\n",
       "    </tr>\n",
       "    <tr>\n",
       "      <th>2</th>\n",
       "      <td>3</td>\n",
       "      <td>Mareah</td>\n",
       "      <td>Tomanek</td>\n",
       "      <td>mtomanek2@bloomberg.com</td>\n",
       "      <td>Female</td>\n",
       "      <td>145 Charing Cross Junction</td>\n",
       "      <td>57</td>\n",
       "      <td>Approve</td>\n",
       "      <td>SE</td>\n",
       "      <td>Y</td>\n",
       "      <td>3P</td>\n",
       "      <td>584420</td>\n",
       "      <td>28557</td>\n",
       "      <td>Y</td>\n",
       "      <td>152387684</td>\n",
       "      <td>36-236-3028</td>\n",
       "      <td>Mozilla/5.0 (Windows NT 5.1; rv:21.0) Gecko/20...</td>\n",
       "      <td>350652.0</td>\n",
       "    </tr>\n",
       "    <tr>\n",
       "      <th>3</th>\n",
       "      <td>4</td>\n",
       "      <td>Myrna</td>\n",
       "      <td>Rosenthaler</td>\n",
       "      <td>mrosenthaler3@dmoz.org</td>\n",
       "      <td>Female</td>\n",
       "      <td>268 Algoma Hill</td>\n",
       "      <td>59</td>\n",
       "      <td>Approve</td>\n",
       "      <td>SE</td>\n",
       "      <td>Y</td>\n",
       "      <td>3P</td>\n",
       "      <td>583781</td>\n",
       "      <td>26042</td>\n",
       "      <td>Y</td>\n",
       "      <td>6510396556</td>\n",
       "      <td>34-339-0917</td>\n",
       "      <td>Mozilla/5.0 (Windows; U; Windows NT 6.1; cs-CZ...</td>\n",
       "      <td>350268.6</td>\n",
       "    </tr>\n",
       "    <tr>\n",
       "      <th>4</th>\n",
       "      <td>5</td>\n",
       "      <td>Danyette</td>\n",
       "      <td>Stempe</td>\n",
       "      <td>dstempe4@tumblr.com</td>\n",
       "      <td>Female</td>\n",
       "      <td>571 Stone Corner Park</td>\n",
       "      <td>51</td>\n",
       "      <td>Approve</td>\n",
       "      <td>SE</td>\n",
       "      <td>N</td>\n",
       "      <td>MP</td>\n",
       "      <td>551718</td>\n",
       "      <td>27892</td>\n",
       "      <td>Y</td>\n",
       "      <td>7141853006</td>\n",
       "      <td>94-098-8902</td>\n",
       "      <td>Mozilla/5.0 (iPhone; U; CPU iPhone OS 4_2_1 li...</td>\n",
       "      <td>331030.8</td>\n",
       "    </tr>\n",
       "  </tbody>\n",
       "</table>\n",
       "</div>"
      ],
      "text/plain": [
       "   Application id first_name    last_name                    email  gender  \\\n",
       "0               1     Dollie        Scafe            dscafe0@is.gd  Female   \n",
       "1               2     Austin    Pennycook      apennycook1@mac.com    Male   \n",
       "2               3     Mareah      Tomanek  mtomanek2@bloomberg.com  Female   \n",
       "3               4      Myrna  Rosenthaler   mrosenthaler3@dmoz.org  Female   \n",
       "4               5   Danyette       Stempe      dstempe4@tumblr.com  Female   \n",
       "\n",
       "                      address  age tdecision empstaus  \\\n",
       "0            02 Garrison Pass   34   Pending       SE   \n",
       "1             007 Miller Road   57   Approve       SE   \n",
       "2  145 Charing Cross Junction   57   Approve       SE   \n",
       "3             268 Algoma Hill   59   Approve       SE   \n",
       "4       571 Stone Corner Park   51   Approve       SE   \n",
       "\n",
       "  ExCus (Customer in Past) Source  Salary  ExDebt (Liability) Booking  \\\n",
       "0                        Y     EC  127110               25130     NaN   \n",
       "1                        Y      D  464039               22311       Y   \n",
       "2                        Y     3P  584420               28557       Y   \n",
       "3                        Y     3P  583781               26042       Y   \n",
       "4                        N     MP  551718               27892       Y   \n",
       "\n",
       "       INT_ID      Prev_ID                                             AGT_ID  \\\n",
       "0  6869736235  79-489-1539  Mozilla/5.0 (Macintosh; U; Intel Mac OS X 10_6...   \n",
       "1  9694176212  92-247-0058  Mozilla/5.0 (Windows; U; Windows NT 5.1; zh-TW...   \n",
       "2   152387684  36-236-3028  Mozilla/5.0 (Windows NT 5.1; rv:21.0) Gecko/20...   \n",
       "3  6510396556  34-339-0917  Mozilla/5.0 (Windows; U; Windows NT 6.1; cs-CZ...   \n",
       "4  7141853006  94-098-8902  Mozilla/5.0 (iPhone; U; CPU iPhone OS 4_2_1 li...   \n",
       "\n",
       "   Booking_Amt  \n",
       "0          NaN  \n",
       "1     278423.4  \n",
       "2     350652.0  \n",
       "3     350268.6  \n",
       "4     331030.8  "
      ]
     },
     "execution_count": 122,
     "metadata": {},
     "output_type": "execute_result"
    }
   ],
   "source": [
    "import xlrd     #excel read\n",
    "import xlwt     #excel write\n",
    "import pandas as pd #importing pandas\n",
    "import numpy as np  #importing numpy\n",
    "location=\"C:/Users/Dell/Desktop/Edulyt/Project 3/Credit_cards_App_data.xlsx\" #location of excel file\n",
    "data = pd.read_excel(location) #reading excel file\n",
    "data.head()                    #shape of data"
   ]
  },
  {
   "cell_type": "code",
   "execution_count": 123,
   "metadata": {},
   "outputs": [
    {
     "name": "stdout",
     "output_type": "stream",
     "text": [
      "1000\n"
     ]
    }
   ],
   "source": [
    "data=np.asarray(data) #Converting to array\n",
    "print(len(data))      #length of data"
   ]
  },
  {
   "cell_type": "code",
   "execution_count": 124,
   "metadata": {},
   "outputs": [
    {
     "name": "stdout",
     "output_type": "stream",
     "text": [
      "Total Applications: 1000\n"
     ]
    }
   ],
   "source": [
    "total_application = 0 #initiallization of variable\n",
    "for i in data: #iterating in whole data\n",
    "    total_application=total_application + 1 #counter\n",
    "print(\"Total Applications: \"+str(total_application)) #Total applications"
   ]
  },
  {
   "cell_type": "code",
   "execution_count": 125,
   "metadata": {},
   "outputs": [
    {
     "name": "stdout",
     "output_type": "stream",
     "text": [
      "Approved_applications: 699\n"
     ]
    }
   ],
   "source": [
    "Approved_application = 0 #initiallization of variable\n",
    "for i in data: #iterating in whole data\n",
    "    if(i[7]=='Approve'): #checking \"Approve\" status of application\n",
    "        Approved_application = Approved_application + 1 #if application is approved then and only counter will incremented\n",
    "print(\"Approved_applications: \"+str(Approved_application)) #Approved Applications"
   ]
  },
  {
   "cell_type": "code",
   "execution_count": 126,
   "metadata": {},
   "outputs": [
    {
     "name": "stdout",
     "output_type": "stream",
     "text": [
      "Booked_applications: 581\n"
     ]
    }
   ],
   "source": [
    "Booked_application = 0 #initiallization of variable\n",
    "for i in data: #iterating in whole data\n",
    "    if(i[13]=='Y'): #checking booking status of application\n",
    "        Booked_application = Booked_application + 1 #if application is booked then and only counter will incremented\n",
    "print(\"Booked_applications: \"+str(Booked_application)) #Booked Applications"
   ]
  },
  {
   "cell_type": "code",
   "execution_count": 127,
   "metadata": {},
   "outputs": [
    {
     "name": "stdout",
     "output_type": "stream",
     "text": [
      "New Booking amount: 232448818.19999993\n"
     ]
    }
   ],
   "source": [
    "Booked_amount = 0\n",
    "for i in data: #iterating in whole data\n",
    "    if(i[13]=='Y'): #checking booking status of application\n",
    "        Booked_amount = Booked_amount + i[17] #if application is booked then Booked amount will accounted in total\n",
    "print(\"New Booking amount: \"+str(Booked_amount)) #new booking amount"
   ]
  },
  {
   "cell_type": "code",
   "execution_count": 128,
   "metadata": {},
   "outputs": [
    {
     "name": "stdout",
     "output_type": "stream",
     "text": [
      "Booking rate: 83.11874105865522 %\n"
     ]
    }
   ],
   "source": [
    "Booking_rate=(Booked_application/Approved_application)*100 #calculating Booking rate\n",
    "print(\"Booking rate: \"+str(Booking_rate)+\" %\") #booking rate"
   ]
  },
  {
   "cell_type": "code",
   "execution_count": 129,
   "metadata": {},
   "outputs": [
    {
     "name": "stdout",
     "output_type": "stream",
     "text": [
      "Approval rate: 69.89999999999999 %\n"
     ]
    }
   ],
   "source": [
    "Approval_rate=(Approved_application/total_application)*100 #calculating Approval rate\n",
    "print(\"Approval rate: \"+str(Approval_rate)+\" %\") #Approval Rate"
   ]
  },
  {
   "cell_type": "code",
   "execution_count": 130,
   "metadata": {},
   "outputs": [
    {
     "data": {
      "image/png": "[encoded data removed]",
      "text/plain": [
       "<Figure size 1800x360 with 1 Axes>"
      ]
     },
     "metadata": {
      "needs_background": "light"
     },
     "output_type": "display_data"
    }
   ],
   "source": [
    "#vissualization \n",
    "import matplotlib.pyplot as plt \n",
    "names = ['Total Applications', 'Approved Applications', 'Booked Applications']\n",
    "values = [total_application, Approved_application, Booked_application]\n",
    "plt.figure(figsize=(25,5))\n",
    "plt.subplot(131)\n",
    "plt.bar(names, values)\n",
    "plt.title(\"Applications\")\n",
    "plt.ylabel(\"No. of Applications\")\n",
    "plt.savefig(\"Applications.png\")\n",
    "plt.show()"
   ]
  },
  {
   "cell_type": "code",
   "execution_count": 131,
   "metadata": {},
   "outputs": [
    {
     "data": {
      "image/png": "[encoded data removed]",
      "text/plain": [
       "<Figure size 1440x360 with 1 Axes>"
      ]
     },
     "metadata": {
      "needs_background": "light"
     },
     "output_type": "display_data"
    }
   ],
   "source": [
    "#vissualization \n",
    "names = ['Approval_rate', 'Booking_rate']\n",
    "values = [Approval_rate, Booking_rate]\n",
    "plt.figure(figsize=(20,5))\n",
    "plt.subplot(131)\n",
    "plt.bar(names, values)\n",
    "plt.title(\"Approval & Booking rate\")\n",
    "plt.ylabel(\"No. of Applications\")\n",
    "plt.savefig('Approval & Booking rate.png')\n",
    "plt.show()"
   ]
  },
  {
   "cell_type": "code",
   "execution_count": 132,
   "metadata": {},
   "outputs": [],
   "source": [
    "# import xlsxwriter module \n",
    "import xlsxwriter \n",
    "\n",
    "# Workbook() takes one, non-optional, argument \n",
    "# which is the filename that we want to create. \n",
    "workbook = xlsxwriter.Workbook('output.xlsx') \n",
    "\n",
    "# The workbook object is then used to add new \n",
    "# worksheet via the add_worksheet() method. \n",
    "worksheet = workbook.add_worksheet() \n",
    "\n",
    "# Use the worksheet object to write \n",
    "# data via the write() method. \n",
    "worksheet.write('A1', 'Total Applications:') \n",
    "worksheet.write('B1', total_application) \n",
    "worksheet.write('A2', 'Approved Applications:') \n",
    "worksheet.write('B2', Approved_application) \n",
    "worksheet.write('A3', 'Booked Applications:') \n",
    "worksheet.write('B3',  Booked_application) \n",
    "worksheet.write('A4', 'New Booking Amount') \n",
    "worksheet.write('B4', Booked_amount) \n",
    "worksheet.write('A5', 'Approval Rate:') \n",
    "worksheet.write('B5', str(Approval_rate)+\" %\") \n",
    "worksheet.write('A6', 'Booking rate:') \n",
    "worksheet.write('B6', str(Booking_rate)+\" %\") \n",
    "\n",
    "# Finally, close the Excel file \n",
    "# via the close() method. \n",
    "workbook.close() "
   ]
  },
  {
   "cell_type": "code",
   "execution_count": null,
   "metadata": {},
   "outputs": [],
   "source": []
  }
 ],
 "metadata": {
  "kernelspec": {
   "display_name": "Python 3",
   "language": "python",
   "name": "python3"
  },
  "language_info": {
   "codemirror_mode": {
    "name": "ipython",
    "version": 3
   },
   "file_extension": ".py",
   "mimetype": "text/x-python",
   "name": "python",
   "nbconvert_exporter": "python",
   "pygments_lexer": "ipython3",
   "version": "3.7.6"
  }
 },
 "nbformat": 4,
 "nbformat_minor": 4
}
