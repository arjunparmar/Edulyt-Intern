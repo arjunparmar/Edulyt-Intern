{
 "cells": [
  {
   "cell_type": "code",
   "execution_count": 29,
   "metadata": {},
   "outputs": [
    {
     "name": "stdout",
     "output_type": "stream",
     "text": [
      "Enter the word which you want to explore: \n",
      "hii\n",
      "Related your search results: \n",
      "['hi', 'Shiki', 'Bhili']\n",
      "Do you looking for hi ? if yes then press y, or n if no: \n",
      "y\n",
      "Expression of greeting used by two or more people who meet each other.\n",
      "Press ENTER to exit the programme\n"
     ]
    },
    {
     "data": {
      "text/plain": [
       "''"
      ]
     },
     "execution_count": 29,
     "metadata": {},
     "output_type": "execute_result"
    }
   ],
   "source": [
    "# required modules \n",
    "import difflib \n",
    "import json \n",
    "\n",
    "# Loading .json file  \n",
    "data = json.load(open(\"data.json\")) \n",
    "  \n",
    "def our_dictionary(w): \n",
    "    \n",
    "    w = w.lower() # converts to lower case \n",
    "    if w in data: \n",
    "        return data[w]\n",
    "    \n",
    "    # close matching\n",
    "    elif len(difflib.get_close_matches(w, data.keys())) > 0:\n",
    "        \n",
    "        print(\"Related your search results: \\n\"+str(difflib.get_close_matches(w, data.keys())))\n",
    "        yn = input(\"Do you looking for % s ? if yes then press y, or n if no: \\n\" % difflib.get_close_matches(w, data.keys())[0]) \n",
    "        \n",
    "        yn = yn.lower() \n",
    "        if yn == \"y\": \n",
    "            return data[difflib.get_close_matches(w, data.keys())[0]] \n",
    "        elif yn == \"n\": \n",
    "            return \"Word isn't in our database\"\n",
    "        else: \n",
    "            return \"Enter specified value\"\n",
    "    else: \n",
    "        return \"Word isn't in our database\"\n",
    "  \n",
    "# code \n",
    "word = input(\"Enter the word which you want to explore: \\n\") \n",
    "output = our_dictionary(word) \n",
    "  \n",
    "if type(output) == list: \n",
    "    for item in output: \n",
    "        print(item) \n",
    "else: \n",
    "    print(output) \n",
    "input('Press ENTER to exit the programme')  "
   ]
  },
  {
   "cell_type": "code",
   "execution_count": null,
   "metadata": {},
   "outputs": [],
   "source": []
  }
 ],
 "metadata": {
  "kernelspec": {
   "display_name": "Python 3",
   "language": "python",
   "name": "python3"
  },
  "language_info": {
   "codemirror_mode": {
    "name": "ipython",
    "version": 3
   },
   "file_extension": ".py",
   "mimetype": "text/x-python",
   "name": "python",
   "nbconvert_exporter": "python",
   "pygments_lexer": "ipython3",
   "version": "3.6.10"
  }
 },
 "nbformat": 4,
 "nbformat_minor": 2
}
